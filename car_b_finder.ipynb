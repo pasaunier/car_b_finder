{
 "cells": [
  {
   "cell_type": "markdown",
   "metadata": {},
   "source": [
    "<font size=\"-1\">\n",
    "            &nbsp;&nbsp;&nbsp;&nbsp;&nbsp;&nbsp;\n",
    "            <b>3D Object Representations for Fine-Grained Categorization</b><br>\n",
    "            &nbsp;&nbsp;&nbsp;&nbsp;&nbsp;&nbsp;\n",
    "            Jonathan Krause, Michael Stark, Jia Deng, Li Fei-Fei<br>\n",
    "            &nbsp;&nbsp;&nbsp;&nbsp;&nbsp;&nbsp;\n",
    "            <i>4th IEEE Workshop on 3D Representation and Recognition, at ICCV 2013</i> <b>(3dRR-13)</b>. Sydney, Australia. Dec. 8, 2013.<br>\n",
    "            &nbsp;&nbsp;&nbsp;&nbsp;&nbsp;&nbsp;\n",
    "            <a style=\"text-decoration: underline\" href=\"../papers/3drr13.pdf\">[pdf]</a>\n",
    "            &nbsp;&nbsp;<a style=\"text-decoration: underline\" href=\"../papers/3drr13.bib\">[BibTex]</a>\n",
    "            &nbsp;&nbsp;<a style=\"text-decoration: underline\" href=\"../papers/3drr_talk.pdf\">[slides]</a>\n",
    "</font>"
   ]
  },
  {
   "cell_type": "markdown",
   "metadata": {},
   "source": [
    "Pour créer un env dédié:\n",
    "conda create -n cars numpy=1.19.1 scipy tensorflow keras matplotlib notebook pandas\n",
    "  \n",
    "Ressources utilisées :  \n",
    "https://medium.com/swlh/recognising-cats-and-dogs-using-neural-networks-with-tensorflow-6f366ad30dbf  \n",
    "https://towardsdatascience.com/how-to-load-matlab-mat-files-in-python-1f200e1287b5  \n",
    "  \n",
    "    \n",
    "Besoin de 3 datasets:\n",
    "- training \n",
    "- validation\n",
    "- test\n",
    "\n",
    "Tout est fourni dans le dataset  choisi\n",
    "\n",
    "dataset from https://ai.stanford.edu/~jkrause/cars/car_dataset.html  \n",
    "NB: Does not feature a lot of french car brands"
   ]
  },
  {
   "cell_type": "code",
   "execution_count": 1,
   "metadata": {},
   "outputs": [
    {
     "name": "stdout",
     "output_type": "stream",
     "text": [
      "imports ok\n"
     ]
    }
   ],
   "source": [
    "import pandas as pd\n",
    "import numpy as np\n",
    "import tensorflow as tf\n",
    "from tensorflow.keras.models import Sequential\n",
    "from tensorflow.keras.layers import Conv2D, MaxPooling2D\n",
    "from tensorflow.keras.layers import Activation, Dropout, Flatten, Dense\n",
    "from tensorflow.keras.preprocessing.image import ImageDataGenerator\n",
    "\n",
    "import os\n",
    "\n",
    "print(\"imports ok\")"
   ]
  },
  {
   "cell_type": "code",
   "execution_count": 65,
   "metadata": {
    "scrolled": true
   },
   "outputs": [
    {
     "name": "stdout",
     "output_type": "stream",
     "text": [
      "196\n"
     ]
    },
    {
     "data": {
      "text/html": [
       "<div>\n",
       "<style scoped>\n",
       "    .dataframe tbody tr th:only-of-type {\n",
       "        vertical-align: middle;\n",
       "    }\n",
       "\n",
       "    .dataframe tbody tr th {\n",
       "        vertical-align: top;\n",
       "    }\n",
       "\n",
       "    .dataframe thead th {\n",
       "        text-align: right;\n",
       "    }\n",
       "</style>\n",
       "<table border=\"1\" class=\"dataframe\">\n",
       "  <thead>\n",
       "    <tr style=\"text-align: right;\">\n",
       "      <th></th>\n",
       "      <th>model_id</th>\n",
       "      <th>class_name</th>\n",
       "    </tr>\n",
       "  </thead>\n",
       "  <tbody>\n",
       "    <tr>\n",
       "      <th>0</th>\n",
       "      <td>1</td>\n",
       "      <td>[AM General Hummer SUV 2000]</td>\n",
       "    </tr>\n",
       "    <tr>\n",
       "      <th>1</th>\n",
       "      <td>2</td>\n",
       "      <td>[Acura RL Sedan 2012]</td>\n",
       "    </tr>\n",
       "    <tr>\n",
       "      <th>2</th>\n",
       "      <td>3</td>\n",
       "      <td>[Acura TL Sedan 2012]</td>\n",
       "    </tr>\n",
       "    <tr>\n",
       "      <th>3</th>\n",
       "      <td>4</td>\n",
       "      <td>[Acura TL Type-S 2008]</td>\n",
       "    </tr>\n",
       "    <tr>\n",
       "      <th>4</th>\n",
       "      <td>5</td>\n",
       "      <td>[Acura TSX Sedan 2012]</td>\n",
       "    </tr>\n",
       "  </tbody>\n",
       "</table>\n",
       "</div>"
      ],
      "text/plain": [
       "   model_id                    class_name\n",
       "0         1  [AM General Hummer SUV 2000]\n",
       "1         2         [Acura RL Sedan 2012]\n",
       "2         3         [Acura TL Sedan 2012]\n",
       "3         4        [Acura TL Type-S 2008]\n",
       "4         5        [Acura TSX Sedan 2012]"
      ]
     },
     "execution_count": 65,
     "metadata": {},
     "output_type": "execute_result"
    }
   ],
   "source": [
    "#import des infos sur les classes de voitures\n",
    "from scipy.io import loadmat\n",
    "meta_annot = loadmat('car_devkit\\cars_meta.mat')\n",
    "data = [[row.flat[0] for row in line] for line in meta_annot['class_names'][0]]\n",
    "print(len(data))\n",
    "columns = [\"model_id\", \"class_name\",]\n",
    "df_names = pd.DataFrame(list(zip(range( 1,len(data)+1), data)), columns=columns)\n",
    "df_names.head()"
   ]
  },
  {
   "cell_type": "code",
   "execution_count": 66,
   "metadata": {},
   "outputs": [
    {
     "data": {
      "text/plain": [
       "Chevrolet        22\n",
       "Dodge            15\n",
       "Audi             14\n",
       "BMW              13\n",
       "Ford             12\n",
       "Hyundai          11\n",
       "Bentley           6\n",
       "Chrysler          6\n",
       "Mercedes-Benz     6\n",
       "Acura             6\n",
       "GMC               5\n",
       "Jeep              5\n",
       "Buick             4\n",
       "Lamborghini       4\n",
       "Nissan            4\n",
       "Toyota            4\n",
       "Aston             4\n",
       "Honda             4\n",
       "Ferrari           4\n",
       "Suzuki            4\n",
       "Volkswagen        3\n",
       "Cadillac          3\n",
       "Volvo             3\n",
       "Rolls-Royce       3\n",
       "FIAT              2\n",
       "Bugatti           2\n",
       "Spyker            2\n",
       "Land              2\n",
       "Infiniti          2\n",
       "HUMMER            2\n",
       "Maybach           1\n",
       "Mazda             1\n",
       "Eagle             1\n",
       "Fisker            1\n",
       "Jaguar            1\n",
       "Scion             1\n",
       "Isuzu             1\n",
       "smart             1\n",
       "Plymouth          1\n",
       "Ram               1\n",
       "Geo               1\n",
       "MINI              1\n",
       "Porsche           1\n",
       "Lincoln           1\n",
       "Mitsubishi        1\n",
       "Tesla             1\n",
       "McLaren           1\n",
       "Daewoo            1\n",
       "AM General        1\n",
       "Name: b_name, dtype: int64"
      ]
     },
     "execution_count": 66,
     "metadata": {},
     "output_type": "execute_result"
    }
   ],
   "source": [
    "#Il faut maintenant regrouper les classes de véhicules par marque au lieu du modèle\n",
    "df_names[\"b_name\"] = df_names.class_name.astype(str).apply(lambda x: x.split(\" \")[0].replace(\"['\",\"\"))\n",
    "df_names[\"b_name\"] = df_names[\"b_name\"].apply(lambda x: \"AM General\" if x==\"AM\" else x)\n",
    "df_names[\"b_id\"] = pd.factorize(df_names[\"b_name\"])[0] #creation du nouvel index\n",
    "# set(df_names.cnames.tolist()) #visualisation de la liste des marques\n",
    "df_names.b_name.value_counts() #nombre de modèles dans le dataset par marque\n",
    "# df_names.b_id.value_counts() #nombre de répétitions des identifiants de marque pour validation"
   ]
  },
  {
   "cell_type": "code",
   "execution_count": 70,
   "metadata": {},
   "outputs": [
    {
     "name": "stdout",
     "output_type": "stream",
     "text": [
      "    model_id                                    class_name   b_name  b_id\n",
      "43        44  [Bentley Continental Flying Spur Sedan 2007]  Bentley     5\n",
      "\n",
      "id_conv[44]=5\n"
     ]
    }
   ],
   "source": [
    "#création d'un dict pour convertir facilement les model_id en b_id\n",
    "id_conv= dict(zip(df_names[\"model_id\"],df_names[\"b_id\"]))\n",
    "# pour obtenir le numéro de marque du modèle #44 :\n",
    "print(df_names.loc[df_names['model_id'] == 44])\n",
    "print()\n",
    "print(f\"{id_conv[44]=}\")"
   ]
  },
  {
   "cell_type": "code",
   "execution_count": 72,
   "metadata": {
    "scrolled": false
   },
   "outputs": [
    {
     "data": {
      "text/html": [
       "<div>\n",
       "<style scoped>\n",
       "    .dataframe tbody tr th:only-of-type {\n",
       "        vertical-align: middle;\n",
       "    }\n",
       "\n",
       "    .dataframe tbody tr th {\n",
       "        vertical-align: top;\n",
       "    }\n",
       "\n",
       "    .dataframe thead th {\n",
       "        text-align: right;\n",
       "    }\n",
       "</style>\n",
       "<table border=\"1\" class=\"dataframe\">\n",
       "  <thead>\n",
       "    <tr style=\"text-align: right;\">\n",
       "      <th></th>\n",
       "      <th>bbox_x1</th>\n",
       "      <th>bbox_y1</th>\n",
       "      <th>bbox_x2</th>\n",
       "      <th>bbox_y2</th>\n",
       "      <th>class</th>\n",
       "      <th>fname</th>\n",
       "    </tr>\n",
       "  </thead>\n",
       "  <tbody>\n",
       "    <tr>\n",
       "      <th>0</th>\n",
       "      <td>39</td>\n",
       "      <td>116</td>\n",
       "      <td>569</td>\n",
       "      <td>375</td>\n",
       "      <td>14</td>\n",
       "      <td>00001.jpg</td>\n",
       "    </tr>\n",
       "    <tr>\n",
       "      <th>1</th>\n",
       "      <td>36</td>\n",
       "      <td>116</td>\n",
       "      <td>868</td>\n",
       "      <td>587</td>\n",
       "      <td>3</td>\n",
       "      <td>00002.jpg</td>\n",
       "    </tr>\n",
       "    <tr>\n",
       "      <th>2</th>\n",
       "      <td>85</td>\n",
       "      <td>109</td>\n",
       "      <td>601</td>\n",
       "      <td>381</td>\n",
       "      <td>91</td>\n",
       "      <td>00003.jpg</td>\n",
       "    </tr>\n",
       "    <tr>\n",
       "      <th>3</th>\n",
       "      <td>621</td>\n",
       "      <td>393</td>\n",
       "      <td>1484</td>\n",
       "      <td>1096</td>\n",
       "      <td>134</td>\n",
       "      <td>00004.jpg</td>\n",
       "    </tr>\n",
       "    <tr>\n",
       "      <th>4</th>\n",
       "      <td>14</td>\n",
       "      <td>36</td>\n",
       "      <td>133</td>\n",
       "      <td>99</td>\n",
       "      <td>106</td>\n",
       "      <td>00005.jpg</td>\n",
       "    </tr>\n",
       "  </tbody>\n",
       "</table>\n",
       "</div>"
      ],
      "text/plain": [
       "   bbox_x1  bbox_y1  bbox_x2  bbox_y2  class      fname\n",
       "0       39      116      569      375     14  00001.jpg\n",
       "1       36      116      868      587      3  00002.jpg\n",
       "2       85      109      601      381     91  00003.jpg\n",
       "3      621      393     1484     1096    134  00004.jpg\n",
       "4       14       36      133       99    106  00005.jpg"
      ]
     },
     "execution_count": 72,
     "metadata": {},
     "output_type": "execute_result"
    }
   ],
   "source": [
    "#import des annotations de training depuis le fichier matlab\n",
    "from scipy.io import loadmat\n",
    "\n",
    "mat_annot = loadmat('car_devkit\\cars_train_annos.mat')\n",
    "data = [[row.flat[0] for row in line] for line in mat_annot['annotations'][0]]\n",
    "columns = ['bbox_x1', 'bbox_y1', 'bbox_x2', 'bbox_y2', 'class', 'fname']\n",
    "df_train = pd.DataFrame(data, columns=columns)\n",
    "df_train.head()"
   ]
  },
  {
   "cell_type": "code",
   "execution_count": 76,
   "metadata": {},
   "outputs": [
    {
     "data": {
      "text/html": [
       "<div>\n",
       "<style scoped>\n",
       "    .dataframe tbody tr th:only-of-type {\n",
       "        vertical-align: middle;\n",
       "    }\n",
       "\n",
       "    .dataframe tbody tr th {\n",
       "        vertical-align: top;\n",
       "    }\n",
       "\n",
       "    .dataframe thead th {\n",
       "        text-align: right;\n",
       "    }\n",
       "</style>\n",
       "<table border=\"1\" class=\"dataframe\">\n",
       "  <thead>\n",
       "    <tr style=\"text-align: right;\">\n",
       "      <th></th>\n",
       "      <th>bbox_x1</th>\n",
       "      <th>bbox_y1</th>\n",
       "      <th>bbox_x2</th>\n",
       "      <th>bbox_y2</th>\n",
       "      <th>class</th>\n",
       "      <th>b_id</th>\n",
       "      <th>fname</th>\n",
       "    </tr>\n",
       "  </thead>\n",
       "  <tbody>\n",
       "    <tr>\n",
       "      <th>0</th>\n",
       "      <td>39</td>\n",
       "      <td>116</td>\n",
       "      <td>569</td>\n",
       "      <td>375</td>\n",
       "      <td>14</td>\n",
       "      <td>3</td>\n",
       "      <td>00001.jpg</td>\n",
       "    </tr>\n",
       "    <tr>\n",
       "      <th>1</th>\n",
       "      <td>36</td>\n",
       "      <td>116</td>\n",
       "      <td>868</td>\n",
       "      <td>587</td>\n",
       "      <td>3</td>\n",
       "      <td>1</td>\n",
       "      <td>00002.jpg</td>\n",
       "    </tr>\n",
       "    <tr>\n",
       "      <th>2</th>\n",
       "      <td>85</td>\n",
       "      <td>109</td>\n",
       "      <td>601</td>\n",
       "      <td>381</td>\n",
       "      <td>91</td>\n",
       "      <td>12</td>\n",
       "      <td>00003.jpg</td>\n",
       "    </tr>\n",
       "    <tr>\n",
       "      <th>3</th>\n",
       "      <td>621</td>\n",
       "      <td>393</td>\n",
       "      <td>1484</td>\n",
       "      <td>1096</td>\n",
       "      <td>134</td>\n",
       "      <td>22</td>\n",
       "      <td>00004.jpg</td>\n",
       "    </tr>\n",
       "    <tr>\n",
       "      <th>4</th>\n",
       "      <td>14</td>\n",
       "      <td>36</td>\n",
       "      <td>133</td>\n",
       "      <td>99</td>\n",
       "      <td>106</td>\n",
       "      <td>17</td>\n",
       "      <td>00005.jpg</td>\n",
       "    </tr>\n",
       "  </tbody>\n",
       "</table>\n",
       "</div>"
      ],
      "text/plain": [
       "   bbox_x1  bbox_y1  bbox_x2  bbox_y2  class  b_id      fname\n",
       "0       39      116      569      375     14     3  00001.jpg\n",
       "1       36      116      868      587      3     1  00002.jpg\n",
       "2       85      109      601      381     91    12  00003.jpg\n",
       "3      621      393     1484     1096    134    22  00004.jpg\n",
       "4       14       36      133       99    106    17  00005.jpg"
      ]
     },
     "execution_count": 76,
     "metadata": {},
     "output_type": "execute_result"
    }
   ],
   "source": [
    "#ajouter les b_id à la dataframe en utilisant le dict et apply:\n",
    "df_train[\"b_id\"] = df_train[\"class\"].apply(lambda x: id_conv[x])\n",
    "# reordering the df\n",
    "df_train = df_train [[\"bbox_x1\", \"bbox_y1\",\"bbox_x2\",\"bbox_y2\",\"class\", \"b_id\", \"fname\"]]\n",
    "df_train.head()"
   ]
  },
  {
   "cell_type": "code",
   "execution_count": 47,
   "metadata": {
    "scrolled": true
   },
   "outputs": [
    {
     "name": "stdout",
     "output_type": "stream",
     "text": [
      "Identifiants ok\n"
     ]
    }
   ],
   "source": [
    "#vérifier que les ids des classes correspondent bien les uns avec les autres\n",
    "if (df_train[\"class\"].min() != df_names[\"class_id\"].min()):\n",
    "    print(\"Err au niveau des min\")\n",
    "elif (df_train[\"class\"].max() != df_names[\"class_id\"].max()):\n",
    "    print(\"Err au niveau des max\")\n",
    "else:\n",
    "    print(\"Identifiants ok\")\n",
    "    "
   ]
  },
  {
   "cell_type": "code",
   "execution_count": 52,
   "metadata": {},
   "outputs": [
    {
     "data": {
      "text/html": [
       "<div>\n",
       "<style scoped>\n",
       "    .dataframe tbody tr th:only-of-type {\n",
       "        vertical-align: middle;\n",
       "    }\n",
       "\n",
       "    .dataframe tbody tr th {\n",
       "        vertical-align: top;\n",
       "    }\n",
       "\n",
       "    .dataframe thead th {\n",
       "        text-align: right;\n",
       "    }\n",
       "</style>\n",
       "<table border=\"1\" class=\"dataframe\">\n",
       "  <thead>\n",
       "    <tr style=\"text-align: right;\">\n",
       "      <th></th>\n",
       "      <th>bbox_x1</th>\n",
       "      <th>bbox_y1</th>\n",
       "      <th>bbox_x2</th>\n",
       "      <th>bbox_y2</th>\n",
       "      <th>fname</th>\n",
       "    </tr>\n",
       "  </thead>\n",
       "  <tbody>\n",
       "    <tr>\n",
       "      <th>0</th>\n",
       "      <td>30</td>\n",
       "      <td>52</td>\n",
       "      <td>246</td>\n",
       "      <td>147</td>\n",
       "      <td>00001.jpg</td>\n",
       "    </tr>\n",
       "    <tr>\n",
       "      <th>1</th>\n",
       "      <td>100</td>\n",
       "      <td>19</td>\n",
       "      <td>576</td>\n",
       "      <td>203</td>\n",
       "      <td>00002.jpg</td>\n",
       "    </tr>\n",
       "    <tr>\n",
       "      <th>2</th>\n",
       "      <td>51</td>\n",
       "      <td>105</td>\n",
       "      <td>968</td>\n",
       "      <td>659</td>\n",
       "      <td>00003.jpg</td>\n",
       "    </tr>\n",
       "    <tr>\n",
       "      <th>3</th>\n",
       "      <td>67</td>\n",
       "      <td>84</td>\n",
       "      <td>581</td>\n",
       "      <td>407</td>\n",
       "      <td>00004.jpg</td>\n",
       "    </tr>\n",
       "    <tr>\n",
       "      <th>4</th>\n",
       "      <td>140</td>\n",
       "      <td>151</td>\n",
       "      <td>593</td>\n",
       "      <td>339</td>\n",
       "      <td>00005.jpg</td>\n",
       "    </tr>\n",
       "  </tbody>\n",
       "</table>\n",
       "</div>"
      ],
      "text/plain": [
       "   bbox_x1  bbox_y1  bbox_x2  bbox_y2      fname\n",
       "0       30       52      246      147  00001.jpg\n",
       "1      100       19      576      203  00002.jpg\n",
       "2       51      105      968      659  00003.jpg\n",
       "3       67       84      581      407  00004.jpg\n",
       "4      140      151      593      339  00005.jpg"
      ]
     },
     "execution_count": 52,
     "metadata": {},
     "output_type": "execute_result"
    }
   ],
   "source": [
    "#import des infos de test \n",
    "# sera peut-être utile plus tard :)\n",
    "from scipy.io import loadmat\n",
    "test_annot = loadmat('car_devkit\\cars_test_annos.mat')\n",
    "data = [[row.flat[0] for row in line] for line in test_annot['annotations'][0]]\n",
    "columns = ['bbox_x1', 'bbox_y1', 'bbox_x2', 'bbox_y2', 'fname']\n",
    "df_test = pd.DataFrame(data, columns=columns)\n",
    "df_test.head()\n",
    "#we are not sending our results -> this may be useless"
   ]
  },
  {
   "cell_type": "code",
   "execution_count": null,
   "metadata": {},
   "outputs": [],
   "source": []
  },
  {
   "cell_type": "code",
   "execution_count": null,
   "metadata": {},
   "outputs": [],
   "source": []
  }
 ],
 "metadata": {
  "kernelspec": {
   "display_name": "Python 3",
   "language": "python",
   "name": "python3"
  },
  "language_info": {
   "codemirror_mode": {
    "name": "ipython",
    "version": 3
   },
   "file_extension": ".py",
   "mimetype": "text/x-python",
   "name": "python",
   "nbconvert_exporter": "python",
   "pygments_lexer": "ipython3",
   "version": "3.8.5"
  }
 },
 "nbformat": 4,
 "nbformat_minor": 4
}
