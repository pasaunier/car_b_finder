{
 "cells": [
  {
   "cell_type": "markdown",
   "metadata": {},
   "source": [
    "<font size=\"-1\">\n",
    "            &nbsp;&nbsp;&nbsp;&nbsp;&nbsp;&nbsp;\n",
    "            <b>3D Object Representations for Fine-Grained Categorization</b><br>\n",
    "            &nbsp;&nbsp;&nbsp;&nbsp;&nbsp;&nbsp;\n",
    "            Jonathan Krause, Michael Stark, Jia Deng, Li Fei-Fei<br>\n",
    "            &nbsp;&nbsp;&nbsp;&nbsp;&nbsp;&nbsp;\n",
    "            <i>4th IEEE Workshop on 3D Representation and Recognition, at ICCV 2013</i> <b>(3dRR-13)</b>. Sydney, Australia. Dec. 8, 2013.<br>\n",
    "            &nbsp;&nbsp;&nbsp;&nbsp;&nbsp;&nbsp;\n",
    "            <a style=\"text-decoration: underline\" href=\"../papers/3drr13.pdf\">[pdf]</a>\n",
    "            &nbsp;&nbsp;<a style=\"text-decoration: underline\" href=\"../papers/3drr13.bib\">[BibTex]</a>\n",
    "            &nbsp;&nbsp;<a style=\"text-decoration: underline\" href=\"../papers/3drr_talk.pdf\">[slides]</a>\n",
    "</font>"
   ]
  },
  {
   "cell_type": "markdown",
   "metadata": {},
   "source": [
    "Pour créer un env dédié:\n",
    "conda create -n cars numpy=1.19.1 scipy tensorflow keras matplotlib notebook pandas Pillow opencv-python\n",
    "\n",
    "Avec support GPU:\n",
    "conda create --name tf_gpu numpy=1.19.1 scipy tensorflow-gpu keras-gpu matplotlib notebook pandas Pillow opencv-python  \n",
    "Ressources utilisées :  \n",
    "https://medium.com/swlh/recognising-cats-and-dogs-using-neural-networks-with-tensorflow-6f366ad30dbf  \n",
    "https://towardsdatascience.com/how-to-load-matlab-mat-files-in-python-1f200e1287b5  \n",
    "  \n",
    "    \n",
    "Besoin de 3 datasets:\n",
    "- training \n",
    "- validation\n",
    "- test\n",
    "\n",
    "Tout est fourni dans le dataset  choisi\n",
    "\n",
    "dataset from https://ai.stanford.edu/~jkrause/cars/car_dataset.html  \n",
    "NB: Does not feature a lot of french car brands"
   ]
  },
  {
   "cell_type": "code",
   "execution_count": 20,
   "metadata": {},
   "outputs": [
    {
     "name": "stdout",
     "output_type": "stream",
     "text": [
      "Number of GPUs Available:  0\n",
      "imports ok. Number of GPUs Available sould be == 1\n"
     ]
    }
   ],
   "source": [
    "import pandas as pd\n",
    "import numpy as np\n",
    "import cv2\n",
    "import tensorflow as tf\n",
    "import matplotlib.pyplot as plt\n",
    "from tensorflow.keras.models import Sequential\n",
    "from tensorflow.keras.layers import Conv2D, MaxPooling2D\n",
    "from tensorflow.keras.layers import Activation, Dropout, Flatten, Dense\n",
    "from tensorflow.keras.preprocessing.image import ImageDataGenerator\n",
    "\n",
    "import os\n",
    "\n",
    "print(\"Number of GPUs Available: \", len(tf.config.list_physical_devices('GPU')))\n",
    "print(\"imports ok. Number of GPUs Available sould be == 1\")"
   ]
  },
  {
   "cell_type": "code",
   "execution_count": 21,
   "metadata": {},
   "outputs": [
    {
     "data": {
      "text/plain": [
       "False"
      ]
     },
     "execution_count": 21,
     "metadata": {},
     "output_type": "execute_result"
    }
   ],
   "source": [
    "tf.test.is_built_with_cuda()"
   ]
  },
  {
   "cell_type": "code",
   "execution_count": 2,
   "metadata": {
    "scrolled": true
   },
   "outputs": [
    {
     "name": "stdout",
     "output_type": "stream",
     "text": [
      "196\n"
     ]
    },
    {
     "data": {
      "text/html": [
       "<div>\n",
       "<style scoped>\n",
       "    .dataframe tbody tr th:only-of-type {\n",
       "        vertical-align: middle;\n",
       "    }\n",
       "\n",
       "    .dataframe tbody tr th {\n",
       "        vertical-align: top;\n",
       "    }\n",
       "\n",
       "    .dataframe thead th {\n",
       "        text-align: right;\n",
       "    }\n",
       "</style>\n",
       "<table border=\"1\" class=\"dataframe\">\n",
       "  <thead>\n",
       "    <tr style=\"text-align: right;\">\n",
       "      <th></th>\n",
       "      <th>model_id</th>\n",
       "      <th>class_name</th>\n",
       "    </tr>\n",
       "  </thead>\n",
       "  <tbody>\n",
       "    <tr>\n",
       "      <th>0</th>\n",
       "      <td>1</td>\n",
       "      <td>[AM General Hummer SUV 2000]</td>\n",
       "    </tr>\n",
       "    <tr>\n",
       "      <th>1</th>\n",
       "      <td>2</td>\n",
       "      <td>[Acura RL Sedan 2012]</td>\n",
       "    </tr>\n",
       "    <tr>\n",
       "      <th>2</th>\n",
       "      <td>3</td>\n",
       "      <td>[Acura TL Sedan 2012]</td>\n",
       "    </tr>\n",
       "    <tr>\n",
       "      <th>3</th>\n",
       "      <td>4</td>\n",
       "      <td>[Acura TL Type-S 2008]</td>\n",
       "    </tr>\n",
       "    <tr>\n",
       "      <th>4</th>\n",
       "      <td>5</td>\n",
       "      <td>[Acura TSX Sedan 2012]</td>\n",
       "    </tr>\n",
       "  </tbody>\n",
       "</table>\n",
       "</div>"
      ],
      "text/plain": [
       "   model_id                    class_name\n",
       "0         1  [AM General Hummer SUV 2000]\n",
       "1         2         [Acura RL Sedan 2012]\n",
       "2         3         [Acura TL Sedan 2012]\n",
       "3         4        [Acura TL Type-S 2008]\n",
       "4         5        [Acura TSX Sedan 2012]"
      ]
     },
     "execution_count": 2,
     "metadata": {},
     "output_type": "execute_result"
    }
   ],
   "source": [
    "#import des infos sur les classes de voitures\n",
    "from scipy.io import loadmat\n",
    "meta_annot = loadmat('car_devkit\\cars_meta.mat')\n",
    "data = [[row.flat[0] for row in line] for line in meta_annot['class_names'][0]]\n",
    "print(len(data))\n",
    "columns = [\"model_id\", \"class_name\",]\n",
    "df_names = pd.DataFrame(list(zip(range( 1,len(data)+1), data)), columns=columns)\n",
    "df_names.head()"
   ]
  },
  {
   "cell_type": "code",
   "execution_count": 3,
   "metadata": {
    "scrolled": true
   },
   "outputs": [
    {
     "data": {
      "text/html": [
       "<div>\n",
       "<style scoped>\n",
       "    .dataframe tbody tr th:only-of-type {\n",
       "        vertical-align: middle;\n",
       "    }\n",
       "\n",
       "    .dataframe tbody tr th {\n",
       "        vertical-align: top;\n",
       "    }\n",
       "\n",
       "    .dataframe thead th {\n",
       "        text-align: right;\n",
       "    }\n",
       "</style>\n",
       "<table border=\"1\" class=\"dataframe\">\n",
       "  <thead>\n",
       "    <tr style=\"text-align: right;\">\n",
       "      <th></th>\n",
       "      <th>model_id</th>\n",
       "      <th>class_name</th>\n",
       "      <th>b_name</th>\n",
       "      <th>b_id</th>\n",
       "    </tr>\n",
       "  </thead>\n",
       "  <tbody>\n",
       "    <tr>\n",
       "      <th>0</th>\n",
       "      <td>1</td>\n",
       "      <td>[AM General Hummer SUV 2000]</td>\n",
       "      <td>AM General</td>\n",
       "      <td>0</td>\n",
       "    </tr>\n",
       "    <tr>\n",
       "      <th>1</th>\n",
       "      <td>2</td>\n",
       "      <td>[Acura RL Sedan 2012]</td>\n",
       "      <td>Acura</td>\n",
       "      <td>1</td>\n",
       "    </tr>\n",
       "    <tr>\n",
       "      <th>2</th>\n",
       "      <td>3</td>\n",
       "      <td>[Acura TL Sedan 2012]</td>\n",
       "      <td>Acura</td>\n",
       "      <td>1</td>\n",
       "    </tr>\n",
       "    <tr>\n",
       "      <th>3</th>\n",
       "      <td>4</td>\n",
       "      <td>[Acura TL Type-S 2008]</td>\n",
       "      <td>Acura</td>\n",
       "      <td>1</td>\n",
       "    </tr>\n",
       "    <tr>\n",
       "      <th>4</th>\n",
       "      <td>5</td>\n",
       "      <td>[Acura TSX Sedan 2012]</td>\n",
       "      <td>Acura</td>\n",
       "      <td>1</td>\n",
       "    </tr>\n",
       "    <tr>\n",
       "      <th>...</th>\n",
       "      <td>...</td>\n",
       "      <td>...</td>\n",
       "      <td>...</td>\n",
       "      <td>...</td>\n",
       "    </tr>\n",
       "    <tr>\n",
       "      <th>191</th>\n",
       "      <td>192</td>\n",
       "      <td>[Volkswagen Beetle Hatchback 2012]</td>\n",
       "      <td>Volkswagen</td>\n",
       "      <td>46</td>\n",
       "    </tr>\n",
       "    <tr>\n",
       "      <th>192</th>\n",
       "      <td>193</td>\n",
       "      <td>[Volvo C30 Hatchback 2012]</td>\n",
       "      <td>Volvo</td>\n",
       "      <td>47</td>\n",
       "    </tr>\n",
       "    <tr>\n",
       "      <th>193</th>\n",
       "      <td>194</td>\n",
       "      <td>[Volvo 240 Sedan 1993]</td>\n",
       "      <td>Volvo</td>\n",
       "      <td>47</td>\n",
       "    </tr>\n",
       "    <tr>\n",
       "      <th>194</th>\n",
       "      <td>195</td>\n",
       "      <td>[Volvo XC90 SUV 2007]</td>\n",
       "      <td>Volvo</td>\n",
       "      <td>47</td>\n",
       "    </tr>\n",
       "    <tr>\n",
       "      <th>195</th>\n",
       "      <td>196</td>\n",
       "      <td>[smart fortwo Convertible 2012]</td>\n",
       "      <td>smart</td>\n",
       "      <td>48</td>\n",
       "    </tr>\n",
       "  </tbody>\n",
       "</table>\n",
       "<p>196 rows × 4 columns</p>\n",
       "</div>"
      ],
      "text/plain": [
       "     model_id                          class_name      b_name  b_id\n",
       "0           1        [AM General Hummer SUV 2000]  AM General     0\n",
       "1           2               [Acura RL Sedan 2012]       Acura     1\n",
       "2           3               [Acura TL Sedan 2012]       Acura     1\n",
       "3           4              [Acura TL Type-S 2008]       Acura     1\n",
       "4           5              [Acura TSX Sedan 2012]       Acura     1\n",
       "..        ...                                 ...         ...   ...\n",
       "191       192  [Volkswagen Beetle Hatchback 2012]  Volkswagen    46\n",
       "192       193          [Volvo C30 Hatchback 2012]       Volvo    47\n",
       "193       194              [Volvo 240 Sedan 1993]       Volvo    47\n",
       "194       195               [Volvo XC90 SUV 2007]       Volvo    47\n",
       "195       196     [smart fortwo Convertible 2012]       smart    48\n",
       "\n",
       "[196 rows x 4 columns]"
      ]
     },
     "execution_count": 3,
     "metadata": {},
     "output_type": "execute_result"
    }
   ],
   "source": [
    "#Il faut maintenant regrouper les classes de véhicules par marque au lieu du modèle\n",
    "df_names[\"b_name\"] = df_names.class_name.astype(str).apply(lambda x: x.split(\" \")[0].replace(\"['\",\"\"))\n",
    "df_names[\"b_name\"] = df_names[\"b_name\"].apply(lambda x: \"AM General\" if x==\"AM\" else x)\n",
    "df_names[\"b_id\"] = pd.factorize(df_names[\"b_name\"])[0] #creation du nouvel index\n",
    "# set(df_names.cnames.tolist()) #visualisation de la liste des marques\n",
    "# df_names.b_name.value_counts() #nombre de modèles dans le dataset par marque\n",
    "# df_names.b_id.value_counts() #nombre de répétitions des identifiants de marque pour validation\n",
    "df_names"
   ]
  },
  {
   "cell_type": "code",
   "execution_count": 4,
   "metadata": {
    "scrolled": true
   },
   "outputs": [
    {
     "name": "stdout",
     "output_type": "stream",
     "text": [
      "    model_id                                    class_name   b_name  b_id\n",
      "43        44  [Bentley Continental Flying Spur Sedan 2007]  Bentley     5\n",
      "\n",
      "id_conv[44]=5\n"
     ]
    }
   ],
   "source": [
    "#création d'un dict pour convertir facilement les model_id en b_id\n",
    "id_conv= dict(zip(df_names[\"model_id\"],df_names[\"b_id\"]))\n",
    "# pour obtenir le numéro de marque du modèle #44 :\n",
    "print(df_names.loc[df_names['model_id'] == 44])\n",
    "print()\n",
    "print(f\"{id_conv[44]=}\")\n",
    "\n",
    "#idem pour les noms de marques:\n",
    "name_conv= dict(zip(df_names[\"b_id\"],df_names[\"b_name\"]))"
   ]
  },
  {
   "cell_type": "code",
   "execution_count": 5,
   "metadata": {
    "scrolled": false
   },
   "outputs": [
    {
     "data": {
      "text/html": [
       "<div>\n",
       "<style scoped>\n",
       "    .dataframe tbody tr th:only-of-type {\n",
       "        vertical-align: middle;\n",
       "    }\n",
       "\n",
       "    .dataframe tbody tr th {\n",
       "        vertical-align: top;\n",
       "    }\n",
       "\n",
       "    .dataframe thead th {\n",
       "        text-align: right;\n",
       "    }\n",
       "</style>\n",
       "<table border=\"1\" class=\"dataframe\">\n",
       "  <thead>\n",
       "    <tr style=\"text-align: right;\">\n",
       "      <th></th>\n",
       "      <th>bbox_x1</th>\n",
       "      <th>bbox_y1</th>\n",
       "      <th>bbox_x2</th>\n",
       "      <th>bbox_y2</th>\n",
       "      <th>class</th>\n",
       "      <th>fname</th>\n",
       "    </tr>\n",
       "  </thead>\n",
       "  <tbody>\n",
       "    <tr>\n",
       "      <th>0</th>\n",
       "      <td>39</td>\n",
       "      <td>116</td>\n",
       "      <td>569</td>\n",
       "      <td>375</td>\n",
       "      <td>14</td>\n",
       "      <td>00001.jpg</td>\n",
       "    </tr>\n",
       "    <tr>\n",
       "      <th>1</th>\n",
       "      <td>36</td>\n",
       "      <td>116</td>\n",
       "      <td>868</td>\n",
       "      <td>587</td>\n",
       "      <td>3</td>\n",
       "      <td>00002.jpg</td>\n",
       "    </tr>\n",
       "    <tr>\n",
       "      <th>2</th>\n",
       "      <td>85</td>\n",
       "      <td>109</td>\n",
       "      <td>601</td>\n",
       "      <td>381</td>\n",
       "      <td>91</td>\n",
       "      <td>00003.jpg</td>\n",
       "    </tr>\n",
       "    <tr>\n",
       "      <th>3</th>\n",
       "      <td>621</td>\n",
       "      <td>393</td>\n",
       "      <td>1484</td>\n",
       "      <td>1096</td>\n",
       "      <td>134</td>\n",
       "      <td>00004.jpg</td>\n",
       "    </tr>\n",
       "    <tr>\n",
       "      <th>4</th>\n",
       "      <td>14</td>\n",
       "      <td>36</td>\n",
       "      <td>133</td>\n",
       "      <td>99</td>\n",
       "      <td>106</td>\n",
       "      <td>00005.jpg</td>\n",
       "    </tr>\n",
       "  </tbody>\n",
       "</table>\n",
       "</div>"
      ],
      "text/plain": [
       "   bbox_x1  bbox_y1  bbox_x2  bbox_y2  class      fname\n",
       "0       39      116      569      375     14  00001.jpg\n",
       "1       36      116      868      587      3  00002.jpg\n",
       "2       85      109      601      381     91  00003.jpg\n",
       "3      621      393     1484     1096    134  00004.jpg\n",
       "4       14       36      133       99    106  00005.jpg"
      ]
     },
     "execution_count": 5,
     "metadata": {},
     "output_type": "execute_result"
    }
   ],
   "source": [
    "#import des annotations de training depuis le fichier matlab\n",
    "from scipy.io import loadmat\n",
    "\n",
    "mat_annot = loadmat('car_devkit\\cars_train_annos.mat')\n",
    "data = [[row.flat[0] for row in line] for line in mat_annot['annotations'][0]]\n",
    "columns = ['bbox_x1', 'bbox_y1', 'bbox_x2', 'bbox_y2', 'class', 'fname']\n",
    "df_train = pd.DataFrame(data, columns=columns)\n",
    "df_train.head()"
   ]
  },
  {
   "cell_type": "code",
   "execution_count": null,
   "metadata": {},
   "outputs": [],
   "source": [
    "#ajouter les b_id à la dataframe en utilisant le dict et apply:\n",
    "df_train[\"b_id\"] = df_train[\"class\"].apply(lambda x: id_conv[x])\n",
    "# reordering the df\n",
    "df_train = df_train [[\"bbox_x1\", \"bbox_y1\",\"bbox_x2\",\"bbox_y2\",\"class\", \"b_id\", \"fname\"]]\n",
    "df_train.head()"
   ]
  },
  {
   "cell_type": "code",
   "execution_count": null,
   "metadata": {},
   "outputs": [],
   "source": [
    "#nombre d'images par marque de voiture :\n",
    "df_train.b_id.apply(lambda x: name_conv[x]).value_counts()"
   ]
  },
  {
   "cell_type": "code",
   "execution_count": null,
   "metadata": {},
   "outputs": [],
   "source": [
    "#import des infos de test \n",
    "# sera peut-être utile plus tard :)\n",
    "from scipy.io import loadmat\n",
    "test_annot = loadmat('car_devkit\\cars_test_annos.mat')\n",
    "data = [[row.flat[0] for row in line] for line in test_annot['annotations'][0]]\n",
    "columns = ['bbox_x1', 'bbox_y1', 'bbox_x2', 'bbox_y2', 'fname']\n",
    "df_test = pd.DataFrame(data, columns=columns)\n",
    "df_test.head()\n",
    "#we are not sending our results -> this may be useless"
   ]
  },
  {
   "cell_type": "code",
   "execution_count": null,
   "metadata": {},
   "outputs": [],
   "source": [
    "import matplotlib.pyplot as plt\n",
    "\n",
    "#fonction pour plotter les box sur les images\n",
    "def draw_rect(row, color = None):\n",
    "    \n",
    "    img_f = plt.imread(r\"cars_train\\\\\" + row['fname'], format='jpeg')\n",
    "    \n",
    "    if not color:\n",
    "        color = [255,255,255]\n",
    "        \n",
    "    pt1, pt2 = (row['bbox_x1'], row['bbox_y1']) , (row['bbox_x2'], row['bbox_y2'])\n",
    "    pt1 = int(pt1[0]), int(pt1[1])\n",
    "    pt2 = int(pt2[0]), int(pt2[1])\n",
    "    img_f = cv2.rectangle(img_f.copy(), pt1, pt2, color, int(max(img_f.shape[:2])/200))\n",
    "    \n",
    "    return img_f\n",
    "\n",
    "# this synthax can be used to draw bounding boxes on the images\n",
    "plt.imshow(draw_rect(df_train.iloc[686]))"
   ]
  },
  {
   "cell_type": "code",
   "execution_count": null,
   "metadata": {},
   "outputs": [],
   "source": [
    "# ouvrir une image avec numpy:\n",
    "img = plt.imread(r\"cars_train\\00001.jpg\", format='jpeg')"
   ]
  },
  {
   "cell_type": "code",
   "execution_count": null,
   "metadata": {},
   "outputs": [],
   "source": [
    "import cv2\n",
    "\n",
    "#fonction pour plotter les box sur les images\n",
    "def crop_img(row):\n",
    "    img_f = plt.imread(r\"cars_train\\\\\" + row['fname'], format='jpeg')\n",
    "    # x and y are flipped when slicing 😠 np arrays\n",
    "    return img_f[row['bbox_y1']:row['bbox_y2'], row['bbox_x1']:row['bbox_x2']]\n",
    "\n",
    "# this synthax can be used to crop the images\n",
    "plt.imshow(crop_img(df_train.iloc[686]))\n"
   ]
  },
  {
   "cell_type": "code",
   "execution_count": null,
   "metadata": {
    "scrolled": true
   },
   "outputs": [],
   "source": [
    "#splitting the training dataframe into training, validation and test dfs\n",
    "# litterature suggests :\n",
    "#  70% of the entire Dataset for training (Training data) : df_flow_train\n",
    "#  15% of the entire Dataset for validation (Validation data): df_flow_val\n",
    "#  15% of the entire Dataset for testing (Testing data): df_flow_test\n",
    "# one issue here : if our sampling is is not representative, we can end up with unbalanced datasets\n",
    "\n",
    "# creating the empty dfs:\n",
    "column_names = [col for col in df_train.columns]\n",
    "df_flow_train  = pd.DataFrame(columns = column_names) \n",
    "df_flow_val  = pd.DataFrame(columns = column_names) \n",
    "df_flow_test  = pd.DataFrame(columns = column_names) \n",
    "\n",
    "# we need to sample x amount for each class instead of for the entire df:\n",
    "\n",
    "for i in range(df_train['b_id'].max()+1):\n",
    "    df_flow_train = df_flow_train.append(df_train[df_train['b_id']==i].sample(frac = 0.7))\n",
    "\n",
    "df_train_rest = df_train.drop(df_flow_train.index) \n",
    "\n",
    "for i in range(df_train['b_id'].max()+1):\n",
    "    df_flow_val = df_flow_val.append(df_train_rest[df_train_rest['b_id']==i].sample(frac = 0.5))\n",
    "\n",
    "df_flow_test = df_train_rest.drop(df_flow_val.index) \n",
    "\n",
    "#checking the datasets len():\n",
    "print(len(df_flow_train))\n",
    "print(len(df_flow_val))\n",
    "print(len(df_flow_test))\n",
    "\n",
    "#checking if we have duplicates, should be 0\n",
    "print(len(df_flow_train[df_flow_train.duplicated()]))\n",
    "print(len(df_flow_val[df_flow_val.duplicated()]))\n",
    "print(len(df_flow_test[df_flow_test.duplicated()]))\n",
    "\n",
    "#checking if we have overlap in the datasets, should be 0\n",
    "remerged = df_flow_train.append(df_flow_val).append(df_flow_test)\n",
    "print(len(remerged[remerged.duplicated()]))\n"
   ]
  },
  {
   "cell_type": "code",
   "execution_count": null,
   "metadata": {},
   "outputs": [],
   "source": [
    "# adding a cat column to use for the classifier\n",
    "df_flow_train[\"cat_str\"] = df_flow_train[\"b_id\"].apply(lambda x: name_conv[x])\n",
    "df_flow_val[\"cat_str\"] = df_flow_val[\"b_id\"].apply(lambda x: name_conv[x])\n",
    "df_flow_test[\"cat_str\"] = df_flow_test[\"b_id\"].apply(lambda x: name_conv[x])\n",
    "\n",
    "df_flow_train.head()"
   ]
  },
  {
   "cell_type": "code",
   "execution_count": null,
   "metadata": {},
   "outputs": [],
   "source": [
    "# danger zone : cropping 7k images at once, what could go wrong lol\n",
    "# don't overwrite the initial images! Uncomment and remove # in the middle to use\n",
    "# df_train.apply(#lambda x: cv2.imwrite(r\"cars_cropped\\\\\" + x['fname'], crop_img(x)), axis=1)"
   ]
  },
  {
   "cell_type": "code",
   "execution_count": null,
   "metadata": {},
   "outputs": [],
   "source": [
    "img_gen = ImageDataGenerator(rescale=1./255, horizontal_flip=True, zoom_range=0.1, shear_range=0.1)\n",
    "img_size = 200\n",
    "batch_size = 32\n",
    "\n",
    "train_img_gen = img_gen.flow_from_dataframe(dataframe= df_flow_train,\n",
    "                                            directory=\"cars_cropped\\\\\",\n",
    "                                            x_col = \"fname\",\n",
    "                                            y_col = \"cat_str\",\n",
    "                                            batch_size = batch_size,\n",
    "                                            target_size=(img_size, img_size),\n",
    "                                            class_mode = \"categorical\"\n",
    "                                           )\n",
    "\n",
    "validate_img_gen = img_gen.flow_from_dataframe(dataframe= df_flow_val,\n",
    "                                            directory=\"cars_cropped\\\\\",\n",
    "                                            x_col = \"fname\",\n",
    "                                            y_col = \"cat_str\",\n",
    "                                            batch_size = batch_size,\n",
    "                                            target_size=(img_size, img_size),\n",
    "                                            class_mode = \"categorical\"\n",
    "                                           )\n",
    "\n",
    "test_img_gen = img_gen.flow_from_dataframe(dataframe= df_flow_test,\n",
    "                                            directory=\"cars_cropped\\\\\",\n",
    "                                            x_col = \"fname\",\n",
    "                                            y_col = \"cat_str\",\n",
    "                                            batch_size = batch_size,\n",
    "                                            target_size=(img_size, img_size),\n",
    "                                            class_mode = \"categorical\"\n",
    "                                           )"
   ]
  },
  {
   "cell_type": "code",
   "execution_count": null,
   "metadata": {},
   "outputs": [],
   "source": [
    "def showImages(arr):\n",
    "    fig, axes = plt.subplots(1, 5, figsize=(20, 20))\n",
    "    axes = axes.flatten()\n",
    "    for img, ax in zip(arr, axes):\n",
    "        ax.imshow(img)\n",
    "    plt.tight_layout()\n",
    "    plt.show()\n",
    "    \n",
    "showImages([train_img_gen[0][0][0] for i in range(15)])"
   ]
  },
  {
   "cell_type": "code",
   "execution_count": null,
   "metadata": {},
   "outputs": [],
   "source": [
    "numclasses = df_train['b_id'].max()+1\n",
    "model = Sequential()\n",
    "model.add(Conv2D(32, (3, 3), input_shape=(200, 200, 3)))\n",
    "model.add(Activation('relu'))\n",
    "model.add(MaxPooling2D(pool_size=(2, 2)))\n",
    "\n",
    "model.add(Conv2D(64, (3, 3)))\n",
    "model.add(Activation('relu'))\n",
    "model.add(MaxPooling2D(pool_size=(2, 2)))\n",
    "\n",
    "model.add(Conv2D(128, (3, 3)))\n",
    "model.add(Activation('relu'))\n",
    "model.add(MaxPooling2D(pool_size=(2, 2)))\n",
    "\n",
    "model.add(Conv2D(128, (3, 3)))\n",
    "model.add(Activation('relu'))\n",
    "model.add(MaxPooling2D(pool_size=(2, 2)))\n",
    "\n",
    "model.add(Flatten())\n",
    "model.add(Dense(256, activation='relu'))\n",
    "\n",
    "model.add(Dropout(0.5))\n",
    "\n",
    "model.add(Dense(numclasses, activation='softmax'))\n"
   ]
  },
  {
   "cell_type": "code",
   "execution_count": null,
   "metadata": {
    "scrolled": true
   },
   "outputs": [],
   "source": [
    "model.compile(loss='categorical_crossentropy',\n",
    "              optimizer='rmsprop', # feed the model to the optimizer\n",
    "              metrics=['accuracy'])\n",
    "\n",
    "model.summary()"
   ]
  },
  {
   "cell_type": "code",
   "execution_count": null,
   "metadata": {},
   "outputs": [],
   "source": [
    "#training\n",
    "train_total = len(df_flow_train)\n",
    "validate_total = len(df_flow_val)\n",
    "# batch_size = 32 #defined earlier\n",
    "\n",
    "fit_result = model.fit(\n",
    "            train_img_gen,\n",
    "            steps_per_epoch=int(np.ceil(train_total / float(batch_size))),\n",
    "            epochs=5, \n",
    "            validation_data=validate_img_gen,\n",
    "            validation_steps=int(np.ceil(validate_total / float(batch_size)))\n",
    "            )"
   ]
  },
  {
   "cell_type": "code",
   "execution_count": null,
   "metadata": {},
   "outputs": [],
   "source": [
    "print(fit_result.history['accuracy'])\n",
    "model.save('firstmodel.h5')"
   ]
  },
  {
   "cell_type": "code",
   "execution_count": 17,
   "metadata": {},
   "outputs": [
    {
     "name": "stdout",
     "output_type": "stream",
     "text": [
      "Num GPUs Available:  0\n"
     ]
    }
   ],
   "source": []
  }
 ],
 "metadata": {
  "kernelspec": {
   "display_name": "Python 3",
   "language": "python",
   "name": "python3"
  },
  "language_info": {
   "codemirror_mode": {
    "name": "ipython",
    "version": 3
   },
   "file_extension": ".py",
   "mimetype": "text/x-python",
   "name": "python",
   "nbconvert_exporter": "python",
   "pygments_lexer": "ipython3",
   "version": "3.8.5"
  }
 },
 "nbformat": 4,
 "nbformat_minor": 4
}
