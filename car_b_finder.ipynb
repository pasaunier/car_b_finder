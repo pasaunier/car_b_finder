{
 "cells": [
  {
   "cell_type": "markdown",
   "metadata": {},
   "source": [
    "<font size=\"-1\">\n",
    "            &nbsp;&nbsp;&nbsp;&nbsp;&nbsp;&nbsp;\n",
    "            <b>3D Object Representations for Fine-Grained Categorization</b><br>\n",
    "            &nbsp;&nbsp;&nbsp;&nbsp;&nbsp;&nbsp;\n",
    "            Jonathan Krause, Michael Stark, Jia Deng, Li Fei-Fei<br>\n",
    "            &nbsp;&nbsp;&nbsp;&nbsp;&nbsp;&nbsp;\n",
    "            <i>4th IEEE Workshop on 3D Representation and Recognition, at ICCV 2013</i> <b>(3dRR-13)</b>. Sydney, Australia. Dec. 8, 2013.<br>\n",
    "            &nbsp;&nbsp;&nbsp;&nbsp;&nbsp;&nbsp;\n",
    "            <a style=\"text-decoration: underline\" href=\"../papers/3drr13.pdf\">[pdf]</a>\n",
    "            &nbsp;&nbsp;<a style=\"text-decoration: underline\" href=\"../papers/3drr13.bib\">[BibTex]</a>\n",
    "            &nbsp;&nbsp;<a style=\"text-decoration: underline\" href=\"../papers/3drr_talk.pdf\">[slides]</a>\n",
    "</font>"
   ]
  },
  {
   "cell_type": "markdown",
   "metadata": {},
   "source": [
    "https://medium.com/swlh/recognising-cats-and-dogs-using-neural-networks-with-tensorflow-6f366ad30dbf\n",
    "\n",
    "besoin de 3 datasets:\n",
    "- training \n",
    "- validation\n",
    "- test\n",
    "\n",
    "pour créer un env dédié:\n",
    "conda create -n cars numpy=1.19.1 scipy tensorflow keras matplotlib notebook pandas\n",
    "\n",
    "dataset from https://ai.stanford.edu/~jkrause/cars/car_dataset.html  \n",
    "NB: Does not feature a lot of french car brands"
   ]
  },
  {
   "cell_type": "code",
   "execution_count": 1,
   "metadata": {},
   "outputs": [
    {
     "name": "stdout",
     "output_type": "stream",
     "text": [
      "imports ok\n"
     ]
    }
   ],
   "source": [
    "import pandas as pd\n",
    "import numpy as np\n",
    "import tensorflow as tf\n",
    "from tensorflow.keras.models import Sequential\n",
    "from tensorflow.keras.layers import Conv2D, MaxPooling2D\n",
    "from tensorflow.keras.layers import Activation, Dropout, Flatten, Dense\n",
    "from tensorflow.keras.preprocessing.image import ImageDataGenerator\n",
    "\n",
    "import os\n",
    "\n",
    "print(\"imports ok\")"
   ]
  },
  {
   "cell_type": "code",
   "execution_count": null,
   "metadata": {},
   "outputs": [],
   "source": [
    "#definir les dossiers de training, validation et test\n"
   ]
  }
 ],
 "metadata": {
  "kernelspec": {
   "display_name": "Python 3",
   "language": "python",
   "name": "python3"
  },
  "language_info": {
   "codemirror_mode": {
    "name": "ipython",
    "version": 3
   },
   "file_extension": ".py",
   "mimetype": "text/x-python",
   "name": "python",
   "nbconvert_exporter": "python",
   "pygments_lexer": "ipython3",
   "version": "3.8.5"
  }
 },
 "nbformat": 4,
 "nbformat_minor": 4
}
