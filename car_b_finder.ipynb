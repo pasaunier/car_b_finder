{
 "cells": [
  {
   "cell_type": "markdown",
   "metadata": {},
   "source": [
    "<font size=\"-1\">\n",
    "            &nbsp;&nbsp;&nbsp;&nbsp;&nbsp;&nbsp;\n",
    "            <b>3D Object Representations for Fine-Grained Categorization</b><br>\n",
    "            &nbsp;&nbsp;&nbsp;&nbsp;&nbsp;&nbsp;\n",
    "            Jonathan Krause, Michael Stark, Jia Deng, Li Fei-Fei<br>\n",
    "            &nbsp;&nbsp;&nbsp;&nbsp;&nbsp;&nbsp;\n",
    "            <i>4th IEEE Workshop on 3D Representation and Recognition, at ICCV 2013</i> <b>(3dRR-13)</b>. Sydney, Australia. Dec. 8, 2013.<br>\n",
    "            &nbsp;&nbsp;&nbsp;&nbsp;&nbsp;&nbsp;\n",
    "            <a style=\"text-decoration: underline\" href=\"../papers/3drr13.pdf\">[pdf]</a>\n",
    "            &nbsp;&nbsp;<a style=\"text-decoration: underline\" href=\"../papers/3drr13.bib\">[BibTex]</a>\n",
    "            &nbsp;&nbsp;<a style=\"text-decoration: underline\" href=\"../papers/3drr_talk.pdf\">[slides]</a>\n",
    "</font>"
   ]
  },
  {
   "cell_type": "markdown",
   "metadata": {},
   "source": [
    "Pour créer un env dédié:\n",
    "conda create -n cars numpy=1.19.1 scipy tensorflow keras matplotlib notebook pandas Pillow\n",
    "Ressources utilisées :  \n",
    "https://medium.com/swlh/recognising-cats-and-dogs-using-neural-networks-with-tensorflow-6f366ad30dbf  \n",
    "https://towardsdatascience.com/how-to-load-matlab-mat-files-in-python-1f200e1287b5  \n",
    "  \n",
    "    \n",
    "Besoin de 3 datasets:\n",
    "- training \n",
    "- validation\n",
    "- test\n",
    "\n",
    "Tout est fourni dans le dataset  choisi\n",
    "\n",
    "dataset from https://ai.stanford.edu/~jkrause/cars/car_dataset.html  \n",
    "NB: Does not feature a lot of french car brands"
   ]
  },
  {
   "cell_type": "code",
   "execution_count": 2,
   "metadata": {},
   "outputs": [
    {
     "name": "stdout",
     "output_type": "stream",
     "text": [
      "imports ok\n"
     ]
    }
   ],
   "source": [
    "import pandas as pd\n",
    "import numpy as np\n",
    "import cv2\n",
    "import tensorflow as tf\n",
    "import matplotlib.pyplot as plt\n",
    "from tensorflow.keras.models import Sequential\n",
    "from tensorflow.keras.layers import Conv2D, MaxPooling2D\n",
    "from tensorflow.keras.layers import Activation, Dropout, Flatten, Dense\n",
    "from tensorflow.keras.preprocessing.image import ImageDataGenerator\n",
    "\n",
    "import os\n",
    "\n",
    "print(\"imports ok\")"
   ]
  },
  {
   "cell_type": "code",
   "execution_count": 3,
   "metadata": {
    "scrolled": true
   },
   "outputs": [
    {
     "name": "stdout",
     "output_type": "stream",
     "text": [
      "196\n"
     ]
    },
    {
     "data": {
      "text/html": [
       "<div>\n",
       "<style scoped>\n",
       "    .dataframe tbody tr th:only-of-type {\n",
       "        vertical-align: middle;\n",
       "    }\n",
       "\n",
       "    .dataframe tbody tr th {\n",
       "        vertical-align: top;\n",
       "    }\n",
       "\n",
       "    .dataframe thead th {\n",
       "        text-align: right;\n",
       "    }\n",
       "</style>\n",
       "<table border=\"1\" class=\"dataframe\">\n",
       "  <thead>\n",
       "    <tr style=\"text-align: right;\">\n",
       "      <th></th>\n",
       "      <th>model_id</th>\n",
       "      <th>class_name</th>\n",
       "    </tr>\n",
       "  </thead>\n",
       "  <tbody>\n",
       "    <tr>\n",
       "      <th>0</th>\n",
       "      <td>1</td>\n",
       "      <td>[AM General Hummer SUV 2000]</td>\n",
       "    </tr>\n",
       "    <tr>\n",
       "      <th>1</th>\n",
       "      <td>2</td>\n",
       "      <td>[Acura RL Sedan 2012]</td>\n",
       "    </tr>\n",
       "    <tr>\n",
       "      <th>2</th>\n",
       "      <td>3</td>\n",
       "      <td>[Acura TL Sedan 2012]</td>\n",
       "    </tr>\n",
       "    <tr>\n",
       "      <th>3</th>\n",
       "      <td>4</td>\n",
       "      <td>[Acura TL Type-S 2008]</td>\n",
       "    </tr>\n",
       "    <tr>\n",
       "      <th>4</th>\n",
       "      <td>5</td>\n",
       "      <td>[Acura TSX Sedan 2012]</td>\n",
       "    </tr>\n",
       "  </tbody>\n",
       "</table>\n",
       "</div>"
      ],
      "text/plain": [
       "   model_id                    class_name\n",
       "0         1  [AM General Hummer SUV 2000]\n",
       "1         2         [Acura RL Sedan 2012]\n",
       "2         3         [Acura TL Sedan 2012]\n",
       "3         4        [Acura TL Type-S 2008]\n",
       "4         5        [Acura TSX Sedan 2012]"
      ]
     },
     "execution_count": 3,
     "metadata": {},
     "output_type": "execute_result"
    }
   ],
   "source": [
    "#import des infos sur les classes de voitures\n",
    "from scipy.io import loadmat\n",
    "meta_annot = loadmat('car_devkit\\cars_meta.mat')\n",
    "data = [[row.flat[0] for row in line] for line in meta_annot['class_names'][0]]\n",
    "print(len(data))\n",
    "columns = [\"model_id\", \"class_name\",]\n",
    "df_names = pd.DataFrame(list(zip(range( 1,len(data)+1), data)), columns=columns)\n",
    "df_names.head()"
   ]
  },
  {
   "cell_type": "code",
   "execution_count": 4,
   "metadata": {
    "scrolled": true
   },
   "outputs": [
    {
     "data": {
      "text/html": [
       "<div>\n",
       "<style scoped>\n",
       "    .dataframe tbody tr th:only-of-type {\n",
       "        vertical-align: middle;\n",
       "    }\n",
       "\n",
       "    .dataframe tbody tr th {\n",
       "        vertical-align: top;\n",
       "    }\n",
       "\n",
       "    .dataframe thead th {\n",
       "        text-align: right;\n",
       "    }\n",
       "</style>\n",
       "<table border=\"1\" class=\"dataframe\">\n",
       "  <thead>\n",
       "    <tr style=\"text-align: right;\">\n",
       "      <th></th>\n",
       "      <th>model_id</th>\n",
       "      <th>class_name</th>\n",
       "      <th>b_name</th>\n",
       "      <th>b_id</th>\n",
       "    </tr>\n",
       "  </thead>\n",
       "  <tbody>\n",
       "    <tr>\n",
       "      <th>0</th>\n",
       "      <td>1</td>\n",
       "      <td>[AM General Hummer SUV 2000]</td>\n",
       "      <td>AM General</td>\n",
       "      <td>0</td>\n",
       "    </tr>\n",
       "    <tr>\n",
       "      <th>1</th>\n",
       "      <td>2</td>\n",
       "      <td>[Acura RL Sedan 2012]</td>\n",
       "      <td>Acura</td>\n",
       "      <td>1</td>\n",
       "    </tr>\n",
       "    <tr>\n",
       "      <th>2</th>\n",
       "      <td>3</td>\n",
       "      <td>[Acura TL Sedan 2012]</td>\n",
       "      <td>Acura</td>\n",
       "      <td>1</td>\n",
       "    </tr>\n",
       "    <tr>\n",
       "      <th>3</th>\n",
       "      <td>4</td>\n",
       "      <td>[Acura TL Type-S 2008]</td>\n",
       "      <td>Acura</td>\n",
       "      <td>1</td>\n",
       "    </tr>\n",
       "    <tr>\n",
       "      <th>4</th>\n",
       "      <td>5</td>\n",
       "      <td>[Acura TSX Sedan 2012]</td>\n",
       "      <td>Acura</td>\n",
       "      <td>1</td>\n",
       "    </tr>\n",
       "    <tr>\n",
       "      <th>...</th>\n",
       "      <td>...</td>\n",
       "      <td>...</td>\n",
       "      <td>...</td>\n",
       "      <td>...</td>\n",
       "    </tr>\n",
       "    <tr>\n",
       "      <th>191</th>\n",
       "      <td>192</td>\n",
       "      <td>[Volkswagen Beetle Hatchback 2012]</td>\n",
       "      <td>Volkswagen</td>\n",
       "      <td>46</td>\n",
       "    </tr>\n",
       "    <tr>\n",
       "      <th>192</th>\n",
       "      <td>193</td>\n",
       "      <td>[Volvo C30 Hatchback 2012]</td>\n",
       "      <td>Volvo</td>\n",
       "      <td>47</td>\n",
       "    </tr>\n",
       "    <tr>\n",
       "      <th>193</th>\n",
       "      <td>194</td>\n",
       "      <td>[Volvo 240 Sedan 1993]</td>\n",
       "      <td>Volvo</td>\n",
       "      <td>47</td>\n",
       "    </tr>\n",
       "    <tr>\n",
       "      <th>194</th>\n",
       "      <td>195</td>\n",
       "      <td>[Volvo XC90 SUV 2007]</td>\n",
       "      <td>Volvo</td>\n",
       "      <td>47</td>\n",
       "    </tr>\n",
       "    <tr>\n",
       "      <th>195</th>\n",
       "      <td>196</td>\n",
       "      <td>[smart fortwo Convertible 2012]</td>\n",
       "      <td>smart</td>\n",
       "      <td>48</td>\n",
       "    </tr>\n",
       "  </tbody>\n",
       "</table>\n",
       "<p>196 rows × 4 columns</p>\n",
       "</div>"
      ],
      "text/plain": [
       "     model_id                          class_name      b_name  b_id\n",
       "0           1        [AM General Hummer SUV 2000]  AM General     0\n",
       "1           2               [Acura RL Sedan 2012]       Acura     1\n",
       "2           3               [Acura TL Sedan 2012]       Acura     1\n",
       "3           4              [Acura TL Type-S 2008]       Acura     1\n",
       "4           5              [Acura TSX Sedan 2012]       Acura     1\n",
       "..        ...                                 ...         ...   ...\n",
       "191       192  [Volkswagen Beetle Hatchback 2012]  Volkswagen    46\n",
       "192       193          [Volvo C30 Hatchback 2012]       Volvo    47\n",
       "193       194              [Volvo 240 Sedan 1993]       Volvo    47\n",
       "194       195               [Volvo XC90 SUV 2007]       Volvo    47\n",
       "195       196     [smart fortwo Convertible 2012]       smart    48\n",
       "\n",
       "[196 rows x 4 columns]"
      ]
     },
     "execution_count": 4,
     "metadata": {},
     "output_type": "execute_result"
    }
   ],
   "source": [
    "#Il faut maintenant regrouper les classes de véhicules par marque au lieu du modèle\n",
    "df_names[\"b_name\"] = df_names.class_name.astype(str).apply(lambda x: x.split(\" \")[0].replace(\"['\",\"\"))\n",
    "df_names[\"b_name\"] = df_names[\"b_name\"].apply(lambda x: \"AM General\" if x==\"AM\" else x)\n",
    "df_names[\"b_id\"] = pd.factorize(df_names[\"b_name\"])[0] #creation du nouvel index\n",
    "# set(df_names.cnames.tolist()) #visualisation de la liste des marques\n",
    "# df_names.b_name.value_counts() #nombre de modèles dans le dataset par marque\n",
    "# df_names.b_id.value_counts() #nombre de répétitions des identifiants de marque pour validation\n",
    "df_names"
   ]
  },
  {
   "cell_type": "code",
   "execution_count": 5,
   "metadata": {},
   "outputs": [
    {
     "name": "stdout",
     "output_type": "stream",
     "text": [
      "    model_id                                    class_name   b_name  b_id\n",
      "43        44  [Bentley Continental Flying Spur Sedan 2007]  Bentley     5\n",
      "\n",
      "id_conv[44]=5\n"
     ]
    }
   ],
   "source": [
    "#création d'un dict pour convertir facilement les model_id en b_id\n",
    "id_conv= dict(zip(df_names[\"model_id\"],df_names[\"b_id\"]))\n",
    "# pour obtenir le numéro de marque du modèle #44 :\n",
    "print(df_names.loc[df_names['model_id'] == 44])\n",
    "print()\n",
    "print(f\"{id_conv[44]=}\")\n",
    "\n",
    "#idem pour les noms de marques:\n",
    "name_conv= dict(zip(df_names[\"b_id\"],df_names[\"b_name\"]))"
   ]
  },
  {
   "cell_type": "code",
   "execution_count": 6,
   "metadata": {
    "scrolled": false
   },
   "outputs": [
    {
     "data": {
      "text/html": [
       "<div>\n",
       "<style scoped>\n",
       "    .dataframe tbody tr th:only-of-type {\n",
       "        vertical-align: middle;\n",
       "    }\n",
       "\n",
       "    .dataframe tbody tr th {\n",
       "        vertical-align: top;\n",
       "    }\n",
       "\n",
       "    .dataframe thead th {\n",
       "        text-align: right;\n",
       "    }\n",
       "</style>\n",
       "<table border=\"1\" class=\"dataframe\">\n",
       "  <thead>\n",
       "    <tr style=\"text-align: right;\">\n",
       "      <th></th>\n",
       "      <th>bbox_x1</th>\n",
       "      <th>bbox_y1</th>\n",
       "      <th>bbox_x2</th>\n",
       "      <th>bbox_y2</th>\n",
       "      <th>class</th>\n",
       "      <th>fname</th>\n",
       "    </tr>\n",
       "  </thead>\n",
       "  <tbody>\n",
       "    <tr>\n",
       "      <th>0</th>\n",
       "      <td>39</td>\n",
       "      <td>116</td>\n",
       "      <td>569</td>\n",
       "      <td>375</td>\n",
       "      <td>14</td>\n",
       "      <td>00001.jpg</td>\n",
       "    </tr>\n",
       "    <tr>\n",
       "      <th>1</th>\n",
       "      <td>36</td>\n",
       "      <td>116</td>\n",
       "      <td>868</td>\n",
       "      <td>587</td>\n",
       "      <td>3</td>\n",
       "      <td>00002.jpg</td>\n",
       "    </tr>\n",
       "    <tr>\n",
       "      <th>2</th>\n",
       "      <td>85</td>\n",
       "      <td>109</td>\n",
       "      <td>601</td>\n",
       "      <td>381</td>\n",
       "      <td>91</td>\n",
       "      <td>00003.jpg</td>\n",
       "    </tr>\n",
       "    <tr>\n",
       "      <th>3</th>\n",
       "      <td>621</td>\n",
       "      <td>393</td>\n",
       "      <td>1484</td>\n",
       "      <td>1096</td>\n",
       "      <td>134</td>\n",
       "      <td>00004.jpg</td>\n",
       "    </tr>\n",
       "    <tr>\n",
       "      <th>4</th>\n",
       "      <td>14</td>\n",
       "      <td>36</td>\n",
       "      <td>133</td>\n",
       "      <td>99</td>\n",
       "      <td>106</td>\n",
       "      <td>00005.jpg</td>\n",
       "    </tr>\n",
       "  </tbody>\n",
       "</table>\n",
       "</div>"
      ],
      "text/plain": [
       "   bbox_x1  bbox_y1  bbox_x2  bbox_y2  class      fname\n",
       "0       39      116      569      375     14  00001.jpg\n",
       "1       36      116      868      587      3  00002.jpg\n",
       "2       85      109      601      381     91  00003.jpg\n",
       "3      621      393     1484     1096    134  00004.jpg\n",
       "4       14       36      133       99    106  00005.jpg"
      ]
     },
     "execution_count": 6,
     "metadata": {},
     "output_type": "execute_result"
    }
   ],
   "source": [
    "#import des annotations de training depuis le fichier matlab\n",
    "from scipy.io import loadmat\n",
    "\n",
    "mat_annot = loadmat('car_devkit\\cars_train_annos.mat')\n",
    "data = [[row.flat[0] for row in line] for line in mat_annot['annotations'][0]]\n",
    "columns = ['bbox_x1', 'bbox_y1', 'bbox_x2', 'bbox_y2', 'class', 'fname']\n",
    "df_train = pd.DataFrame(data, columns=columns)\n",
    "df_train.head()"
   ]
  },
  {
   "cell_type": "code",
   "execution_count": 7,
   "metadata": {},
   "outputs": [
    {
     "data": {
      "text/html": [
       "<div>\n",
       "<style scoped>\n",
       "    .dataframe tbody tr th:only-of-type {\n",
       "        vertical-align: middle;\n",
       "    }\n",
       "\n",
       "    .dataframe tbody tr th {\n",
       "        vertical-align: top;\n",
       "    }\n",
       "\n",
       "    .dataframe thead th {\n",
       "        text-align: right;\n",
       "    }\n",
       "</style>\n",
       "<table border=\"1\" class=\"dataframe\">\n",
       "  <thead>\n",
       "    <tr style=\"text-align: right;\">\n",
       "      <th></th>\n",
       "      <th>bbox_x1</th>\n",
       "      <th>bbox_y1</th>\n",
       "      <th>bbox_x2</th>\n",
       "      <th>bbox_y2</th>\n",
       "      <th>class</th>\n",
       "      <th>b_id</th>\n",
       "      <th>fname</th>\n",
       "    </tr>\n",
       "  </thead>\n",
       "  <tbody>\n",
       "    <tr>\n",
       "      <th>0</th>\n",
       "      <td>39</td>\n",
       "      <td>116</td>\n",
       "      <td>569</td>\n",
       "      <td>375</td>\n",
       "      <td>14</td>\n",
       "      <td>3</td>\n",
       "      <td>00001.jpg</td>\n",
       "    </tr>\n",
       "    <tr>\n",
       "      <th>1</th>\n",
       "      <td>36</td>\n",
       "      <td>116</td>\n",
       "      <td>868</td>\n",
       "      <td>587</td>\n",
       "      <td>3</td>\n",
       "      <td>1</td>\n",
       "      <td>00002.jpg</td>\n",
       "    </tr>\n",
       "    <tr>\n",
       "      <th>2</th>\n",
       "      <td>85</td>\n",
       "      <td>109</td>\n",
       "      <td>601</td>\n",
       "      <td>381</td>\n",
       "      <td>91</td>\n",
       "      <td>12</td>\n",
       "      <td>00003.jpg</td>\n",
       "    </tr>\n",
       "    <tr>\n",
       "      <th>3</th>\n",
       "      <td>621</td>\n",
       "      <td>393</td>\n",
       "      <td>1484</td>\n",
       "      <td>1096</td>\n",
       "      <td>134</td>\n",
       "      <td>22</td>\n",
       "      <td>00004.jpg</td>\n",
       "    </tr>\n",
       "    <tr>\n",
       "      <th>4</th>\n",
       "      <td>14</td>\n",
       "      <td>36</td>\n",
       "      <td>133</td>\n",
       "      <td>99</td>\n",
       "      <td>106</td>\n",
       "      <td>17</td>\n",
       "      <td>00005.jpg</td>\n",
       "    </tr>\n",
       "  </tbody>\n",
       "</table>\n",
       "</div>"
      ],
      "text/plain": [
       "   bbox_x1  bbox_y1  bbox_x2  bbox_y2  class  b_id      fname\n",
       "0       39      116      569      375     14     3  00001.jpg\n",
       "1       36      116      868      587      3     1  00002.jpg\n",
       "2       85      109      601      381     91    12  00003.jpg\n",
       "3      621      393     1484     1096    134    22  00004.jpg\n",
       "4       14       36      133       99    106    17  00005.jpg"
      ]
     },
     "execution_count": 7,
     "metadata": {},
     "output_type": "execute_result"
    }
   ],
   "source": [
    "#ajouter les b_id à la dataframe en utilisant le dict et apply:\n",
    "df_train[\"b_id\"] = df_train[\"class\"].apply(lambda x: id_conv[x])\n",
    "# reordering the df\n",
    "df_train = df_train [[\"bbox_x1\", \"bbox_y1\",\"bbox_x2\",\"bbox_y2\",\"class\", \"b_id\", \"fname\"]]\n",
    "df_train.head()"
   ]
  },
  {
   "cell_type": "code",
   "execution_count": 8,
   "metadata": {
    "scrolled": true
   },
   "outputs": [
    {
     "data": {
      "text/plain": [
       "Chevrolet        905\n",
       "Dodge            630\n",
       "Audi             589\n",
       "BMW              531\n",
       "Ford             521\n",
       "Hyundai          438\n",
       "Mercedes-Benz    261\n",
       "Chrysler         260\n",
       "Acura            242\n",
       "Bentley          238\n",
       "GMC              238\n",
       "Jeep             220\n",
       "Nissan           171\n",
       "Toyota           168\n",
       "Suzuki           167\n",
       "Ferrari          164\n",
       "Lamborghini      161\n",
       "Honda            161\n",
       "Buick            158\n",
       "Aston            157\n",
       "Volkswagen       132\n",
       "Volvo            131\n",
       "Cadillac         129\n",
       "Rolls-Royce      114\n",
       "Spyker            88\n",
       "Land              86\n",
       "HUMMER            83\n",
       "Bugatti           77\n",
       "Infiniti          67\n",
       "FIAT              62\n",
       "Mitsubishi        48\n",
       "Jaguar            47\n",
       "Eagle             46\n",
       "Geo               45\n",
       "Daewoo            45\n",
       "AM General        45\n",
       "McLaren           44\n",
       "Porsche           44\n",
       "Plymouth          44\n",
       "Fisker            44\n",
       "Scion             42\n",
       "Ram               41\n",
       "smart             40\n",
       "Isuzu             40\n",
       "Lincoln           39\n",
       "Tesla             39\n",
       "MINI              37\n",
       "Mazda             36\n",
       "Maybach           29\n",
       "Name: b_id, dtype: int64"
      ]
     },
     "execution_count": 8,
     "metadata": {},
     "output_type": "execute_result"
    }
   ],
   "source": [
    "#nombre d'images par marque de voiture :\n",
    "df_train.b_id.apply(lambda x: name_conv[x]).value_counts()"
   ]
  },
  {
   "cell_type": "code",
   "execution_count": 9,
   "metadata": {},
   "outputs": [
    {
     "data": {
      "text/html": [
       "<div>\n",
       "<style scoped>\n",
       "    .dataframe tbody tr th:only-of-type {\n",
       "        vertical-align: middle;\n",
       "    }\n",
       "\n",
       "    .dataframe tbody tr th {\n",
       "        vertical-align: top;\n",
       "    }\n",
       "\n",
       "    .dataframe thead th {\n",
       "        text-align: right;\n",
       "    }\n",
       "</style>\n",
       "<table border=\"1\" class=\"dataframe\">\n",
       "  <thead>\n",
       "    <tr style=\"text-align: right;\">\n",
       "      <th></th>\n",
       "      <th>bbox_x1</th>\n",
       "      <th>bbox_y1</th>\n",
       "      <th>bbox_x2</th>\n",
       "      <th>bbox_y2</th>\n",
       "      <th>fname</th>\n",
       "    </tr>\n",
       "  </thead>\n",
       "  <tbody>\n",
       "    <tr>\n",
       "      <th>0</th>\n",
       "      <td>30</td>\n",
       "      <td>52</td>\n",
       "      <td>246</td>\n",
       "      <td>147</td>\n",
       "      <td>00001.jpg</td>\n",
       "    </tr>\n",
       "    <tr>\n",
       "      <th>1</th>\n",
       "      <td>100</td>\n",
       "      <td>19</td>\n",
       "      <td>576</td>\n",
       "      <td>203</td>\n",
       "      <td>00002.jpg</td>\n",
       "    </tr>\n",
       "    <tr>\n",
       "      <th>2</th>\n",
       "      <td>51</td>\n",
       "      <td>105</td>\n",
       "      <td>968</td>\n",
       "      <td>659</td>\n",
       "      <td>00003.jpg</td>\n",
       "    </tr>\n",
       "    <tr>\n",
       "      <th>3</th>\n",
       "      <td>67</td>\n",
       "      <td>84</td>\n",
       "      <td>581</td>\n",
       "      <td>407</td>\n",
       "      <td>00004.jpg</td>\n",
       "    </tr>\n",
       "    <tr>\n",
       "      <th>4</th>\n",
       "      <td>140</td>\n",
       "      <td>151</td>\n",
       "      <td>593</td>\n",
       "      <td>339</td>\n",
       "      <td>00005.jpg</td>\n",
       "    </tr>\n",
       "  </tbody>\n",
       "</table>\n",
       "</div>"
      ],
      "text/plain": [
       "   bbox_x1  bbox_y1  bbox_x2  bbox_y2      fname\n",
       "0       30       52      246      147  00001.jpg\n",
       "1      100       19      576      203  00002.jpg\n",
       "2       51      105      968      659  00003.jpg\n",
       "3       67       84      581      407  00004.jpg\n",
       "4      140      151      593      339  00005.jpg"
      ]
     },
     "execution_count": 9,
     "metadata": {},
     "output_type": "execute_result"
    }
   ],
   "source": [
    "#import des infos de test \n",
    "# sera peut-être utile plus tard :)\n",
    "from scipy.io import loadmat\n",
    "test_annot = loadmat('car_devkit\\cars_test_annos.mat')\n",
    "data = [[row.flat[0] for row in line] for line in test_annot['annotations'][0]]\n",
    "columns = ['bbox_x1', 'bbox_y1', 'bbox_x2', 'bbox_y2', 'fname']\n",
    "df_test = pd.DataFrame(data, columns=columns)\n",
    "df_test.head()\n",
    "#we are not sending our results -> this may be useless"
   ]
  },
  {
   "cell_type": "code",
   "execution_count": 10,
   "metadata": {},
   "outputs": [],
   "source": [
    "import matplotlib.pyplot as plt\n",
    "\n",
    "#fonction pour plotter les box sur les images\n",
    "def draw_rect(row, color = None):\n",
    "    \n",
    "    img_f = plt.imread(r\"cars_train\\\\\" + row['fname'], format='jpeg')\n",
    "    \n",
    "    if not color:\n",
    "        color = [255,255,255]\n",
    "        \n",
    "    pt1, pt2 = (row['bbox_x1'], row['bbox_y1']) , (row['bbox_x2'], row['bbox_y2'])\n",
    "    pt1 = int(pt1[0]), int(pt1[1])\n",
    "    pt2 = int(pt2[0]), int(pt2[1])\n",
    "    img_f = cv2.rectangle(img_f.copy(), pt1, pt2, color, int(max(img_f.shape[:2])/200))\n",
    "    \n",
    "    return img_f\n",
    "\n",
    "plt.imshow(draw_rect(df_train.iloc[686]))"
   ]
  },
  {
   "cell_type": "code",
   "execution_count": 11,
   "metadata": {},
   "outputs": [],
   "source": [
    "# ouvrir une image avec numpy:\n",
    "img = plt.imread(r\"cars_train\\00001.jpg\", format='jpeg')\n",
    "# print(draw_rect(im, cords,))"
   ]
  },
  {
   "cell_type": "code",
   "execution_count": 18,
   "metadata": {
    "scrolled": true
   },
   "outputs": [
    {
     "data": {
      "text/plain": [
       "<matplotlib.image.AxesImage at 0x1dd002662b0>"
      ]
     },
     "execution_count": 18,
     "metadata": {},
     "output_type": "execute_result"
    },
    {
     "data": {
      "image/png": "[encoded data removed]",
      "text/plain": [
       "<Figure size 432x288 with 1 Axes>"
      ]
     },
     "metadata": {
      "needs_background": "light"
     },
     "output_type": "display_data"
    }
   ],
   "source": [
    "# this synthax can be used to draw bounding boxes on the images\n",
    "plt.imshow(draw_rect(df_train.iloc[686]))"
   ]
  },
  {
   "cell_type": "code",
   "execution_count": 37,
   "metadata": {},
   "outputs": [
    {
     "data": {
      "text/plain": [
       "<matplotlib.image.AxesImage at 0x1dd03f8e8b0>"
      ]
     },
     "execution_count": 37,
     "metadata": {},
     "output_type": "execute_result"
    },
    {
     "data": {
      "image/png": "[encoded data removed]",
      "text/plain": [
       "<Figure size 432x288 with 1 Axes>"
      ]
     },
     "metadata": {
      "needs_background": "light"
     },
     "output_type": "display_data"
    }
   ],
   "source": [
    "import cv2\n",
    "\n",
    "#fonction pour plotter les box sur les images\n",
    "def crop_img(row):\n",
    "    img_f = plt.imread(r\"cars_train\\\\\" + row['fname'], format='jpeg')\n",
    "    \n",
    "    return img_f[row['bbox_x1']:224 , row['bbox_y1']:222]\n",
    "#     return img_f[row['bbox_x1']:row['bbox_y1'] , row['bbox_y2']:row['bbox_x2']]\n",
    "plt.imshow(crop_img(df_train.iloc[686]))\n",
    "\n"
   ]
  }
 ],
 "metadata": {
  "kernelspec": {
   "display_name": "Python 3",
   "language": "python",
   "name": "python3"
  },
  "language_info": {
   "codemirror_mode": {
    "name": "ipython",
    "version": 3
   },
   "file_extension": ".py",
   "mimetype": "text/x-python",
   "name": "python",
   "nbconvert_exporter": "python",
   "pygments_lexer": "ipython3",
   "version": "3.8.5"
  }
 },
 "nbformat": 4,
 "nbformat_minor": 4
}
